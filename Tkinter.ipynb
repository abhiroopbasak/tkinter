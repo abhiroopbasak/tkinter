{
 "cells": [
  {
   "cell_type": "code",
   "execution_count": 1,
   "metadata": {},
   "outputs": [],
   "source": []
  },
  {
   "cell_type": "code",
   "execution_count": null,
   "metadata": {},
   "outputs": [],
   "source": []
  },
  {
   "cell_type": "code",
   "execution_count": 2,
   "metadata": {},
   "outputs": [],
   "source": [
    "import tkinter as tk\n",
    "from tkinter import *\n",
    "m=tk.Tk()\n",
    "m.title('Counting Seconds')\n",
    "d=Canvas(m, width=40, height=60)\n",
    "d.pack()\n",
    "canvas_height=200\n",
    "canvas_width=200\n",
    "y=int(canvas_height/2)\n",
    "d.create_line(0,y,canvas_width,y)\n",
    "b=tk.Button(m, text='Stop', width=25, command=m.destroy, bg='yellow')\n",
    "b.pack()\n",
    "m.mainloop()"
   ]
  },
  {
   "cell_type": "code",
   "execution_count": null,
   "metadata": {},
   "outputs": [],
   "source": []
  },
  {
   "cell_type": "code",
   "execution_count": 4,
   "metadata": {},
   "outputs": [
    {
     "ename": "TclError",
     "evalue": "bad geometry specifier \"270*150\"",
     "output_type": "error",
     "traceback": [
      "\u001b[1;31m---------------------------------------------------------------------------\u001b[0m",
      "\u001b[1;31mTclError\u001b[0m                                  Traceback (most recent call last)",
      "\u001b[1;32m<ipython-input-4-b94f62b9fd8e>\u001b[0m in \u001b[0;36m<module>\u001b[1;34m\u001b[0m\n\u001b[0;32m     29\u001b[0m \u001b[0mgui\u001b[0m\u001b[1;33m.\u001b[0m\u001b[0mconfigure\u001b[0m\u001b[1;33m(\u001b[0m\u001b[0mbackground\u001b[0m\u001b[1;33m=\u001b[0m\u001b[1;34m\"light green\"\u001b[0m\u001b[1;33m)\u001b[0m\u001b[1;33m\u001b[0m\u001b[1;33m\u001b[0m\u001b[0m\n\u001b[0;32m     30\u001b[0m \u001b[0mgui\u001b[0m\u001b[1;33m.\u001b[0m\u001b[0mtitle\u001b[0m\u001b[1;33m(\u001b[0m\u001b[1;34m\"Simple Calculator\"\u001b[0m\u001b[1;33m)\u001b[0m\u001b[1;33m\u001b[0m\u001b[1;33m\u001b[0m\u001b[0m\n\u001b[1;32m---> 31\u001b[1;33m \u001b[0mgui\u001b[0m\u001b[1;33m.\u001b[0m\u001b[0mgeometry\u001b[0m\u001b[1;33m(\u001b[0m\u001b[1;34m\"270*150\"\u001b[0m\u001b[1;33m)\u001b[0m\u001b[1;33m\u001b[0m\u001b[1;33m\u001b[0m\u001b[0m\n\u001b[0m\u001b[0;32m     32\u001b[0m \u001b[0mequation\u001b[0m\u001b[1;33m=\u001b[0m\u001b[0mStringVar\u001b[0m\u001b[1;33m(\u001b[0m\u001b[1;33m)\u001b[0m\u001b[1;33m\u001b[0m\u001b[1;33m\u001b[0m\u001b[0m\n\u001b[0;32m     33\u001b[0m \u001b[0mexpression_field\u001b[0m\u001b[1;33m=\u001b[0m\u001b[0mEntry\u001b[0m\u001b[1;33m(\u001b[0m\u001b[0mgui\u001b[0m\u001b[1;33m,\u001b[0m\u001b[0mtextvariable\u001b[0m\u001b[1;33m=\u001b[0m\u001b[0mequation\u001b[0m\u001b[1;33m)\u001b[0m\u001b[1;33m\u001b[0m\u001b[1;33m\u001b[0m\u001b[0m\n",
      "\u001b[1;32m~\\Anaconda3\\lib\\tkinter\\__init__.py\u001b[0m in \u001b[0;36mwm_geometry\u001b[1;34m(self, newGeometry)\u001b[0m\n\u001b[0;32m   1839\u001b[0m         \"\"\"Set geometry to NEWGEOMETRY of the form =widthxheight+x+y. Return\n\u001b[0;32m   1840\u001b[0m         current value if None is given.\"\"\"\n\u001b[1;32m-> 1841\u001b[1;33m         \u001b[1;32mreturn\u001b[0m \u001b[0mself\u001b[0m\u001b[1;33m.\u001b[0m\u001b[0mtk\u001b[0m\u001b[1;33m.\u001b[0m\u001b[0mcall\u001b[0m\u001b[1;33m(\u001b[0m\u001b[1;34m'wm'\u001b[0m\u001b[1;33m,\u001b[0m \u001b[1;34m'geometry'\u001b[0m\u001b[1;33m,\u001b[0m \u001b[0mself\u001b[0m\u001b[1;33m.\u001b[0m\u001b[0m_w\u001b[0m\u001b[1;33m,\u001b[0m \u001b[0mnewGeometry\u001b[0m\u001b[1;33m)\u001b[0m\u001b[1;33m\u001b[0m\u001b[1;33m\u001b[0m\u001b[0m\n\u001b[0m\u001b[0;32m   1842\u001b[0m     \u001b[0mgeometry\u001b[0m \u001b[1;33m=\u001b[0m \u001b[0mwm_geometry\u001b[0m\u001b[1;33m\u001b[0m\u001b[1;33m\u001b[0m\u001b[0m\n\u001b[0;32m   1843\u001b[0m     def wm_grid(self,\n",
      "\u001b[1;31mTclError\u001b[0m: bad geometry specifier \"270*150\""
     ]
    }
   ],
   "source": [
    "from tkinter import *\n",
    "expression=\"\"\n",
    "\n",
    "\n",
    "def press(num):\n",
    "    global expression\n",
    "    expression=expression+str(num)\n",
    "    equation.set(expression)\n",
    "    \n",
    "\n",
    "def equalpress():\n",
    "    try:\n",
    "        global expression\n",
    "        total=str(eval(expression))\n",
    "        equation=\"\"\n",
    "    except:\n",
    "        equation.set(\"error\")\n",
    "        expression=\"\"\n",
    "       \n",
    "        \n",
    "def clear():\n",
    "    global expression\n",
    "    expression=\"\"\n",
    "    equation.set(\"\")\n",
    "    \n",
    "    \n",
    "\n",
    "gui=Tk()\n",
    "gui.configure(background=\"light green\")\n",
    "gui.title(\"Simple Calculator\")\n",
    "gui.geometry(\"270*150\")\n",
    "equation=StringVar()\n",
    "expression_field=Entry(gui,textvariable=equation)\n",
    "expression_field.grid(columnspan=4,ipadx=70)\n",
    "\n",
    "button1=Button(gui,text='1',fg='black',bg='red',command=lambda:press(1),height=1,width=7)\n",
    "button1.grid(row=2,column=0)\n",
    "button2=Button(gui,text='1',fg='black',bg='red',command=lambda:press(2),height=1,width=7)\n",
    "button2.grid(row=2,column=0)\n",
    "button3=Button(gui,text='1',fg='black',bg='red',command=lambda:press(3),height=1,width=7)\n",
    "button3.grid(row=2,column=0)\n",
    "button4=Button(gui,text='1',fg='black',bg='red',command=lambda:press(4),height=1,width=7)\n",
    "button4.grid(row=3,column=0)\n",
    "button5=Button(gui,text='1',fg='black',bg='red',command=lambda:press(5),height=1,width=7)\n",
    "button5.grid(row=3,column=0)\n",
    "button6=Button(gui,text='1',fg='black',bg='red',command=lambda:press(6),height=1,width=7)\n",
    "button6.grid(row=3,column=0)\n",
    "button7=Button(gui,text='1',fg='black',bg='red',command=lambda:press(7),height=1,width=7)\n",
    "button7.grid(row=4,column=0)\n",
    "button8=Button(gui,text='1',fg='black',bg='red',command=lambda:press(8),height=1,width=7)\n",
    "button8.grid(row=4,column=0)\n",
    "button9=Button(gui,text='1',fg='black',bg='red',command=lambda:press(9),height=1,width=7)\n",
    "button9.grid(row=4,column=0)\n",
    "button0=Button(gui,text='1',fg='black',bg='red',command=lambda:press(0),height=1,width=7)\n",
    "button0.grid(row=5,column=0)\n",
    "\n",
    "#plus=\n"
   ]
  },
  {
   "cell_type": "code",
   "execution_count": null,
   "metadata": {},
   "outputs": [],
   "source": []
  }
 ],
 "metadata": {
  "kernelspec": {
   "display_name": "Python 3",
   "language": "python",
   "name": "python3"
  },
  "language_info": {
   "codemirror_mode": {
    "name": "ipython",
    "version": 3
   },
   "file_extension": ".py",
   "mimetype": "text/x-python",
   "name": "python",
   "nbconvert_exporter": "python",
   "pygments_lexer": "ipython3",
   "version": "3.7.3"
  }
 },
 "nbformat": 4,
 "nbformat_minor": 2
}
